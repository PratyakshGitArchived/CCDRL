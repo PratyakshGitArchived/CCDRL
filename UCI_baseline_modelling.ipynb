{
  "nbformat": 4,
  "nbformat_minor": 0,
  "metadata": {
    "kernelspec": {
      "display_name": "Python 3",
      "language": "python",
      "name": "python3"
    },
    "language_info": {
      "codemirror_mode": {
        "name": "ipython",
        "version": 3
      },
      "file_extension": ".py",
      "mimetype": "text/x-python",
      "name": "python",
      "nbconvert_exporter": "python",
      "pygments_lexer": "ipython3",
      "version": "3.7.4"
    },
    "colab": {
      "name": "UCI_baseline_modelling.ipynb",
      "provenance": [],
      "collapsed_sections": []
    }
  },
  "cells": [
    {
      "cell_type": "code",
      "metadata": {
        "id": "CBK2wG-ujyYo",
        "colab_type": "code",
        "colab": {}
      },
      "source": [
        "import pandas as pd\n",
        "from sklearn.model_selection import learning_curve, train_test_split,GridSearchCV\n",
        "from sklearn.preprocessing import StandardScaler\n",
        "from sklearn.pipeline import Pipeline\n",
        "from sklearn.metrics import accuracy_score\n",
        "from sklearn.svm import SVC\n",
        "from sklearn.tree import DecisionTreeClassifier\n",
        "from sklearn.ensemble import RandomForestClassifier\n",
        "from sklearn.neighbors import KNeighborsClassifier\n",
        "from matplotlib import pyplot as plt\n",
        "import seaborn as sns"
      ],
      "execution_count": 0,
      "outputs": []
    },
    {
      "cell_type": "code",
      "metadata": {
        "id": "wNFVFYODjyYr",
        "colab_type": "code",
        "colab": {}
      },
      "source": [
        "# data\n",
        "data = data = pd.read_csv('UCI_Credit_Card.csv')"
      ],
      "execution_count": 0,
      "outputs": []
    },
    {
      "cell_type": "code",
      "metadata": {
        "id": "qWU1X1khjyYu",
        "colab_type": "code",
        "outputId": "e650c2a5-9017-4221-db42-1fe4e92d534a",
        "colab": {}
      },
      "source": [
        "# data info\n",
        "print(data.shape) # dataset size\n",
        "print(data.describe()) # describe dataset\n",
        "# next month info\n",
        "next_month = data['default.payment.next.month'].value_counts()\n",
        "print(next_month)\n",
        "df = pd.DataFrame({'default.payment.next.month': next_month.index,'values': next_month.values})\n",
        "plt.figure(figsize = (6,6))\n",
        "plt.title('Credit card default rate customers\\n (Default:1, Keep promise:0)')\n",
        "sns.set_color_codes(\"pastel\")\n",
        "sns.barplot(x = 'default.payment.next.month', y=\"values\", data=df)\n",
        "locs, labels = plt.xticks()\n",
        "plt.show()"
      ],
      "execution_count": 0,
      "outputs": [
        {
          "output_type": "stream",
          "text": [
            "(30000, 25)\n",
            "                 ID       LIMIT_BAL           SEX     EDUCATION      MARRIAGE  \\\n",
            "count  30000.000000    30000.000000  30000.000000  30000.000000  30000.000000   \n",
            "mean   15000.500000   167484.322667      1.603733      1.853133      1.551867   \n",
            "std     8660.398374   129747.661567      0.489129      0.790349      0.521970   \n",
            "min        1.000000    10000.000000      1.000000      0.000000      0.000000   \n",
            "25%     7500.750000    50000.000000      1.000000      1.000000      1.000000   \n",
            "50%    15000.500000   140000.000000      2.000000      2.000000      2.000000   \n",
            "75%    22500.250000   240000.000000      2.000000      2.000000      2.000000   \n",
            "max    30000.000000  1000000.000000      2.000000      6.000000      3.000000   \n",
            "\n",
            "                AGE         PAY_0         PAY_2         PAY_3         PAY_4  \\\n",
            "count  30000.000000  30000.000000  30000.000000  30000.000000  30000.000000   \n",
            "mean      35.485500     -0.016700     -0.133767     -0.166200     -0.220667   \n",
            "std        9.217904      1.123802      1.197186      1.196868      1.169139   \n",
            "min       21.000000     -2.000000     -2.000000     -2.000000     -2.000000   \n",
            "25%       28.000000     -1.000000     -1.000000     -1.000000     -1.000000   \n",
            "50%       34.000000      0.000000      0.000000      0.000000      0.000000   \n",
            "75%       41.000000      0.000000      0.000000      0.000000      0.000000   \n",
            "max       79.000000      8.000000      8.000000      8.000000      8.000000   \n",
            "\n",
            "       ...      BILL_AMT4      BILL_AMT5      BILL_AMT6       PAY_AMT1  \\\n",
            "count  ...   30000.000000   30000.000000   30000.000000   30000.000000   \n",
            "mean   ...   43262.948967   40311.400967   38871.760400    5663.580500   \n",
            "std    ...   64332.856134   60797.155770   59554.107537   16563.280354   \n",
            "min    ... -170000.000000  -81334.000000 -339603.000000       0.000000   \n",
            "25%    ...    2326.750000    1763.000000    1256.000000    1000.000000   \n",
            "50%    ...   19052.000000   18104.500000   17071.000000    2100.000000   \n",
            "75%    ...   54506.000000   50190.500000   49198.250000    5006.000000   \n",
            "max    ...  891586.000000  927171.000000  961664.000000  873552.000000   \n",
            "\n",
            "           PAY_AMT2      PAY_AMT3       PAY_AMT4       PAY_AMT5  \\\n",
            "count  3.000000e+04   30000.00000   30000.000000   30000.000000   \n",
            "mean   5.921163e+03    5225.68150    4826.076867    4799.387633   \n",
            "std    2.304087e+04   17606.96147   15666.159744   15278.305679   \n",
            "min    0.000000e+00       0.00000       0.000000       0.000000   \n",
            "25%    8.330000e+02     390.00000     296.000000     252.500000   \n",
            "50%    2.009000e+03    1800.00000    1500.000000    1500.000000   \n",
            "75%    5.000000e+03    4505.00000    4013.250000    4031.500000   \n",
            "max    1.684259e+06  896040.00000  621000.000000  426529.000000   \n",
            "\n",
            "            PAY_AMT6  default.payment.next.month  \n",
            "count   30000.000000                30000.000000  \n",
            "mean     5215.502567                    0.221200  \n",
            "std     17777.465775                    0.415062  \n",
            "min         0.000000                    0.000000  \n",
            "25%       117.750000                    0.000000  \n",
            "50%      1500.000000                    0.000000  \n",
            "75%      4000.000000                    0.000000  \n",
            "max    528666.000000                    1.000000  \n",
            "\n",
            "[8 rows x 25 columns]\n",
            "0    23364\n",
            "1     6636\n",
            "Name: default.payment.next.month, dtype: int64\n"
          ],
          "name": "stdout"
        },
        {
          "output_type": "display_data",
          "data": {
            "image/png": "[encoded data removed]",
            "text/plain": [
              "<Figure size 432x432 with 1 Axes>"
            ]
          },
          "metadata": {
            "tags": [],
            "needs_background": "light"
          }
        }
      ]
    },
    {
      "cell_type": "code",
      "metadata": {
        "id": "bSC26g3vjyYx",
        "colab_type": "code",
        "outputId": "f18e054b-ffba-4add-bfd8-e506bc11e279",
        "colab": {}
      },
      "source": [
        "# Feature selection, remove the ID field and the last result field\n",
        "\n",
        "data.drop(['ID'], inplace=True, axis =1) #ID is useless\n",
        "target = data['default.payment.next.month'].values      #target\n",
        "columns = data.columns.tolist()                  # All column indexes are placed in a list\n",
        "columns.remove('default.payment.next.month')       # Delete the target index in the list\n",
        "features = data[columns].values                      # all features\n",
        "# 30% as test set，others as the train set\n",
        "train_x, test_x, train_y, test_y = train_test_split(features, target, test_size=0.30, stratify = target, random_state = 1)\n",
        "\n",
        "# stratify：Assign according to the proportion of categories in the target field. For example, there are two types of A and B in the targrt before segmentation, and the ratio A:B=2:3, then the ratio of A and B in the training set and the test set after segmentation is still A:B=2:3\n",
        "\n",
        "# classifiers\n",
        "classifiers = [\n",
        "    SVC(random_state = 1, kernel = 'rbf'),   \n",
        "    DecisionTreeClassifier(random_state = 1, criterion = 'gini'),\n",
        "    RandomForestClassifier(random_state = 1, criterion = 'gini'),\n",
        "    KNeighborsClassifier(metric = 'minkowski'),\n",
        "]\n",
        "\n",
        "# classifier names\n",
        "classifier_names = [\n",
        "            'svc',\n",
        "            'decisiontreeclassifier',\n",
        "            'randomforestclassifier',\n",
        "            'kneighborsclassifier',\n",
        "]\n",
        "# classifier param\n",
        "classifier_param_grid = [\n",
        "            {'svc__C':[1], 'svc__gamma':[0.01]},\n",
        "            {'decisiontreeclassifier__max_depth':[6,9,11]},\n",
        "            {'randomforestclassifier__n_estimators':[3,5,6]} ,\n",
        "            {'kneighborsclassifier__n_neighbors':[4,6,8]},\n",
        "]\n",
        "  \n",
        "# GridSearchCV \n",
        "def GridSearchCV_work(pipeline, train_x, train_y, test_x, test_y, param_grid, score = 'accuracy'):\n",
        "    response = {}\n",
        "    gridsearch = GridSearchCV(estimator = pipeline, param_grid = param_grid, scoring = score)\n",
        "    # Find the best parameters and the best accuracy score\n",
        "    search = gridsearch.fit(train_x, train_y)\n",
        "    print(\"GridSearch best params：\", search.best_params_)\n",
        "    print(\"GridSearch best score： %0.4lf\" %search.best_score_)\n",
        "    predict_y = gridsearch.predict(test_x)\n",
        "    print(\" accuracy %0.4lf\" %accuracy_score(test_y, predict_y))\n",
        "    response['predict_y'] = predict_y\n",
        "    response['accuracy_score'] = accuracy_score(test_y,predict_y)\n",
        "    return response\n",
        "  \n",
        "for model, model_name, model_param_grid in zip(classifiers, classifier_names, classifier_param_grid):\n",
        "    pipeline = Pipeline([\n",
        "            ('scaler', StandardScaler()),\n",
        "            (model_name, model)\n",
        "    ])\n",
        "    result = GridSearchCV_work(pipeline, train_x, train_y, test_x, test_y, model_param_grid , score = 'accuracy')\n"
      ],
      "execution_count": 0,
      "outputs": [
        {
          "output_type": "stream",
          "text": [
            "GridSearch best params： {'svc__C': 1, 'svc__gamma': 0.01}\n",
            "GridSearch best score： 0.8186\n",
            " accuracy 0.8172\n",
            "GridSearch best params： {'decisiontreeclassifier__max_depth': 6}\n",
            "GridSearch best score： 0.8208\n",
            " accuracy 0.8113\n",
            "GridSearch best params： {'randomforestclassifier__n_estimators': 6}\n",
            "GridSearch best score： 0.8004\n",
            " accuracy 0.7994\n",
            "GridSearch best params： {'kneighborsclassifier__n_neighbors': 8}\n",
            "GridSearch best score： 0.8040\n",
            " accuracy 0.8036\n"
          ],
          "name": "stdout"
        }
      ]
    },
    {
      "cell_type": "markdown",
      "metadata": {
        "id": "j79rfcl6jyYz",
        "colab_type": "text"
      },
      "source": [
        "The purpose of this note book is to run base line models on the data set without any significant pre-processing. \n",
        "\n",
        " Exploring the data, using data visualization methods can give us a more intuitive understanding of the data, such as the number of people who want to understand the credit card default rate and non-default rate.\n",
        "\n",
        "Mulltiple Classifiers were tested against the data-set , GridSearch CV was used to find the best hyperparameters for the models"
      ]
    },
    {
      "cell_type": "markdown",
      "metadata": {
        "id": "d8kGzd39jyYz",
        "colab_type": "text"
      },
      "source": [
        "\n",
        "\n",
        "\n",
        "From the results, we can see that the SVM classifier has the highest accuracy and the test accuracy is 0.8172. In the decision tree classification, I set 3 kinds of maximum depth. When the maximum depth=6, the result is the best, and the test accuracy is 0.8113; in the random forest classification, I set the value of 3 decision trees. When the value is 6, the result is the best, and the test accuracy rate is 0.7994; in the KNN classification, I set three values of n. When the value is 8, the result is the best, and the test accuracy rate is 0.8036."
      ]
    },
    {
      "cell_type": "code",
      "metadata": {
        "id": "ZgZLQk5xjyY0",
        "colab_type": "code",
        "colab": {}
      },
      "source": [
        ""
      ],
      "execution_count": 0,
      "outputs": []
    }
  ]
}